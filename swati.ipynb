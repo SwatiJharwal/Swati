{
 "cells": [
  {
   "cell_type": "markdown",
   "id": "cc8b1c4a",
   "metadata": {},
   "source": [
    "Task 1: Factorial Calculator: Write a Python program that calculates the factorial of a given number.\n",
    "def factorial(n):\n",
    "    \n"
   ]
  },
  {
   "cell_type": "code",
   "execution_count": 13,
   "id": "87e96aaa",
   "metadata": {},
   "outputs": [
    {
     "name": "stdout",
     "output_type": "stream",
     "text": [
      "Enter a non-negative integer: 5\n",
      " Factorial of 5 is 120.\n"
     ]
    }
   ],
   "source": [
    "def factorial_of (n) :\n",
    "    \n",
    "    n = given_number\n",
    "\n",
    "    fact = 1\n",
    "    if n == int(abs(n)) :\n",
    "        for i in range (n) :\n",
    "            fact = n*fact\n",
    "            n = n-1\n",
    "        return (fact)\n",
    "    else:\n",
    "        return (\"not possible\")\n",
    "\n",
    "given_number = int(input(\"Enter a non-negative integer: \"))\n",
    "\n",
    "a=factorial_of (given_number)\n",
    "print(f\" Factorial of {given_number} is {a}.\")"
   ]
  },
  {
   "cell_type": "markdown",
   "id": "b62d6a6b",
   "metadata": {},
   "source": [
    "Task 2: Sum and Average:Create a function that takes a list of numbers as input and returns the sum and average of those numbers."
   ]
  },
  {
   "cell_type": "code",
   "execution_count": 14,
   "id": "09af195f",
   "metadata": {},
   "outputs": [],
   "source": [
    "def calculate_sum_and_average(numbers):\n",
    "    total_sum = sum(numbers)\n",
    "    average = total_sum / len(numbers)\n",
    "    return total_sum, average\n"
   ]
  },
  {
   "cell_type": "code",
   "execution_count": null,
   "id": "06c4bdc8",
   "metadata": {},
   "outputs": [],
   "source": []
  }
 ],
 "metadata": {
  "kernelspec": {
   "display_name": "Python 3 (ipykernel)",
   "language": "python",
   "name": "python3"
  },
  "language_info": {
   "codemirror_mode": {
    "name": "ipython",
    "version": 3
   },
   "file_extension": ".py",
   "mimetype": "text/x-python",
   "name": "python",
   "nbconvert_exporter": "python",
   "pygments_lexer": "ipython3",
   "version": "3.9.12"
  }
 },
 "nbformat": 4,
 "nbformat_minor": 5
}
